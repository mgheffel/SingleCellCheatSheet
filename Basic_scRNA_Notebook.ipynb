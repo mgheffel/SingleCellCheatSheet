{
 "cells": [
  {
   "cell_type": "code",
   "execution_count": null,
   "id": "1df6605f",
   "metadata": {},
   "outputs": [],
   "source": [
    "import os,sys\n",
    "import numpy as np\n",
    "import pandas as pd\n",
    "import scanpy as sc\n",
    "from scanpy import AnnData\n",
    "sc.set_figure_params(figsize=(4,4))\n",
    "import matplotlib\n",
    "import matplotlib.pyplot as plt\n",
    "plt.rcParams['pdf.fonttype']=42\n",
    "plt.rcParams['font.family']='Verdana'\n",
    "import seaborn as sns"
   ]
  },
  {
   "cell_type": "code",
   "execution_count": null,
   "id": "9d27ebe7",
   "metadata": {},
   "outputs": [],
   "source": [
    "#List data\n",
    "os.listdir('DATA/LinnarsonLab_MouseHCX_dataset/')"
   ]
  },
  {
   "cell_type": "code",
   "execution_count": null,
   "id": "11d3c5a3",
   "metadata": {},
   "outputs": [],
   "source": [
    "#open data\n",
    "#pandas df from csv\n",
    "#10x dirs\n",
    "#h5ad\n",
    "#alt?"
   ]
  },
  {
   "cell_type": "code",
   "execution_count": null,
   "id": "ba7220ed",
   "metadata": {},
   "outputs": [],
   "source": [
    "sc.pp.filter_cells(adata, min_genes=200)\n",
    "sc.pp.filter_genes(adata, min_cells=3)\n",
    "sc.pp.normalize_total(adata, target_sum=1e4)\n",
    "sc.pp.log1p(adata)"
   ]
  },
  {
   "cell_type": "code",
   "execution_count": null,
   "id": "08425203",
   "metadata": {},
   "outputs": [],
   "source": []
  },
  {
   "cell_type": "code",
   "execution_count": null,
   "id": "fed717a4",
   "metadata": {},
   "outputs": [],
   "source": []
  },
  {
   "cell_type": "code",
   "execution_count": null,
   "id": "dfa0388e",
   "metadata": {},
   "outputs": [],
   "source": []
  },
  {
   "cell_type": "code",
   "execution_count": null,
   "id": "e20ec27e",
   "metadata": {},
   "outputs": [],
   "source": []
  }
 ],
 "metadata": {
  "kernelspec": {
   "display_name": "Python [conda env:.conda-scanpy_env] *",
   "language": "python",
   "name": "conda-env-.conda-scanpy_env-py"
  },
  "language_info": {
   "codemirror_mode": {
    "name": "ipython",
    "version": 3
   },
   "file_extension": ".py",
   "mimetype": "text/x-python",
   "name": "python",
   "nbconvert_exporter": "python",
   "pygments_lexer": "ipython3",
   "version": "3.8.13"
  }
 },
 "nbformat": 4,
 "nbformat_minor": 5
}
