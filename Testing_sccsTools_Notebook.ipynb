{
 "cells": [
  {
   "cell_type": "code",
   "execution_count": 5,
   "id": "15c43249",
   "metadata": {},
   "outputs": [],
   "source": [
    "import sceTools\n",
    "import numpy as np"
   ]
  },
  {
   "cell_type": "code",
   "execution_count": 2,
   "id": "ee01e9ed",
   "metadata": {},
   "outputs": [],
   "source": [
    "from sceTools import testing"
   ]
  },
  {
   "cell_type": "code",
   "execution_count": 3,
   "id": "e375d879",
   "metadata": {},
   "outputs": [
    {
     "data": {
      "text/plain": [
       "5"
      ]
     },
     "execution_count": 3,
     "metadata": {},
     "output_type": "execute_result"
    }
   ],
   "source": [
    "feat=5\n",
    "feat"
   ]
  },
  {
   "cell_type": "code",
   "execution_count": 4,
   "id": "a9ccb553",
   "metadata": {},
   "outputs": [
    {
     "name": "stdout",
     "output_type": "stream",
     "text": [
      "False\n"
     ]
    }
   ],
   "source": [
    "print(testing.isNan(feat))"
   ]
  },
  {
   "cell_type": "code",
   "execution_count": 6,
   "id": "69ca2842",
   "metadata": {},
   "outputs": [],
   "source": [
    "feat=np.nan"
   ]
  },
  {
   "cell_type": "code",
   "execution_count": 7,
   "id": "244c074c",
   "metadata": {},
   "outputs": [
    {
     "name": "stdout",
     "output_type": "stream",
     "text": [
      "True\n"
     ]
    }
   ],
   "source": [
    "print(testing.isNan(feat))"
   ]
  }
 ],
 "metadata": {
  "kernelspec": {
   "display_name": "Python [conda env:.conda-scanpy_env] *",
   "language": "python",
   "name": "conda-env-.conda-scanpy_env-py"
  },
  "language_info": {
   "codemirror_mode": {
    "name": "ipython",
    "version": 3
   },
   "file_extension": ".py",
   "mimetype": "text/x-python",
   "name": "python",
   "nbconvert_exporter": "python",
   "pygments_lexer": "ipython3",
   "version": "3.8.13"
  }
 },
 "nbformat": 4,
 "nbformat_minor": 5
}
